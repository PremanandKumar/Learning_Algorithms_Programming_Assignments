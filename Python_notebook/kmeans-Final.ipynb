{
 "cells": [
  {
   "cell_type": "code",
   "execution_count": 1,
   "metadata": {
    "collapsed": true
   },
   "outputs": [],
   "source": [
    "import numpy as np\n",
    "from mnist import MNIST\n",
    "mndata = MNIST('.')\n",
    "from sklearn.neighbors import KNeighborsClassifier\n",
    "from sklearn.metrics import accuracy_score\n",
    "from matplotlib import pyplot as plt\n",
    "%matplotlib inline\n",
    "import time\n",
    "import random\n",
    "from sklearn.cluster import KMeans,MiniBatchKMeans\n",
    "from collections import Counter, defaultdict\n",
    "from tqdm import tqdm\n",
    "#from imblearn.under_sampling import CondensedNearestNeighbour"
   ]
  },
  {
   "cell_type": "code",
   "execution_count": 2,
   "metadata": {
    "collapsed": true
   },
   "outputs": [],
   "source": [
    "#Protoyping\n",
    "class prototyping():\n",
    "    def __init__(self):\n",
    "        self.x_train_sampled = []\n",
    "        self.x_label_sampled = []\n",
    "          \n",
    "    def sample(self, x_train, x_label, num_sample, strategy = 'Random'):\n",
    "        #self.x_train = x_train\n",
    "        #self.x_label = x_label\n",
    "        self.strategy = strategy\n",
    "        self.num_sample = num_sample\n",
    "        \n",
    "        if self.strategy == 'Random':\n",
    "            self.random_sampler(x_train, x_label)\n",
    "            \n",
    "        if self.strategy == 'kmeans':\n",
    "            self.kmeans_sampler(x_train, x_label)\n",
    "        \n",
    "        return self.x_train_sampled, self.x_label_sampled\n",
    "        \n",
    "    def random_sampler(self, x_train, x_label):\n",
    "        self.x_train_sampled = []\n",
    "        self.x_label_sampled = []\n",
    "        data_length = len(x_train)\n",
    "        # create an array for index sampling\n",
    "        index = random.sample(range(data_length), self.num_sample)\n",
    "        self.x_train_sampled = [x_train[i] for i in index]\n",
    "        self.x_label_sampled = [x_label[i] for i in index]  \n",
    "        \n",
    "    def kmeans_sampler(self, x_train, x_label):\n",
    "        self.x_train_sampled = []\n",
    "        self.x_label_sampled = []\n",
    "        #split the data according to class\n",
    "        train_data_dic = defaultdict(list)\n",
    "        for i in range(len(x_label)):\n",
    "            train_data_dic[x_label[i]].append(x_train[i]) #dict of each label\n",
    "        \n",
    "        num_samples_per_class = int(self.num_sample/10)\n",
    "        train_img_sample_dict = defaultdict(list)\n",
    "\n",
    "        for i in range(len(train_data_dic)):\n",
    "            prototyping_example2 = MiniBatchKMeans(n_clusters = num_samples_per_class)\n",
    "            prototyping_example2.fit(train_data_dic[i])\n",
    "            train_img_sample_dict[i] = prototyping_example2.cluster_centers_   \n",
    "    \n",
    "        for i in range(len(train_img_sample_dict)):\n",
    "            self.x_train_sampled.extend(train_img_sample_dict[i])\n",
    "            self.x_label_sampled.extend(num_samples_per_class*[i])\n"
   ]
  },
  {
   "cell_type": "code",
   "execution_count": 3,
   "metadata": {
    "collapsed": true
   },
   "outputs": [],
   "source": [
    "# prediction and timing\n",
    "def pred_timing(xtrain_set, xtrain_label, xtest_set, xtest_label):\n",
    "    neighbour_classifier = KNeighborsClassifier(n_neighbors=1)\n",
    "    #time taken for fitting the data\n",
    "    start = time.time()\n",
    "    neighbour_classifier.fit(xtrain_set, xtrain_label)\n",
    "    stop = time.time()\n",
    "    fit_time = stop - start\n",
    "    #time taken for prediction \n",
    "    start = time.time()\n",
    "    z = neighbour_classifier.predict(xtest_set)\n",
    "    stop = time.time()\n",
    "    prediction_time = stop - start\n",
    "    accuracy = accuracy_score(list(xtest_label),z)\n",
    "    return z,accuracy, fit_time, prediction_time"
   ]
  },
  {
   "cell_type": "code",
   "execution_count": 4,
   "metadata": {
    "collapsed": true
   },
   "outputs": [],
   "source": [
    "#Read data\n",
    "#complete test and train image\n",
    "test_img, test_label = mndata.load_testing()\n",
    "train_img, train_label = mndata.load_training()"
   ]
  },
  {
   "cell_type": "code",
   "execution_count": 5,
   "metadata": {},
   "outputs": [
    {
     "name": "stdout",
     "output_type": "stream",
     "text": [
      "Number of training examples are  60000\n",
      "Number of test examples are  10000\n"
     ]
    }
   ],
   "source": [
    "#counts\n",
    "print(\"Number of training examples are \",len(train_img))\n",
    "print(\"Number of test examples are \",len(test_img))"
   ]
  },
  {
   "cell_type": "code",
   "execution_count": 6,
   "metadata": {
    "collapsed": true
   },
   "outputs": [],
   "source": [
    "#knn on entire dataset\n",
    "_,accuracy_full, fit_time_full, prediction_time_full = pred_timing(train_img, train_label,test_img, test_label)"
   ]
  },
  {
   "cell_type": "code",
   "execution_count": 7,
   "metadata": {},
   "outputs": [
    {
     "name": "stderr",
     "output_type": "stream",
     "text": [
      "100%|██████████| 10/10 [39:48<00:00, 238.90s/it]\n"
     ]
    }
   ],
   "source": [
    "#using a subset of data by random sampling\n",
    "accuracy_random_iter = []\n",
    "fit_time_random_iter = []\n",
    "prediction_time_random_iter = []\n",
    "total_time_random_iter = []\n",
    "for iter in tqdm(range(0,10)):\n",
    "    prototyping_example1 = prototyping()\n",
    "    num_sample = [1000, 5000, 10000]\n",
    "    accuracy_random = []\n",
    "    fit_time_random = []\n",
    "    prediction_time_random = []\n",
    "    total_time_random = []\n",
    "\n",
    "    for n in num_sample:\n",
    "        train_img_sample, train_label_sample = prototyping_example1.sample(train_img, train_label, num_sample = n)\n",
    "        _,accuracy,fit_time,prediction_time = pred_timing(train_img_sample, train_label_sample, test_img, test_label)\n",
    "        accuracy_random.append(accuracy)\n",
    "        fit_time_random.append(fit_time)\n",
    "        prediction_time_random.append(prediction_time)\n",
    "        total_time_random.append(fit_time+prediction_time)\n",
    "        #print(len(train_img_sample))\n",
    "        \n",
    "    accuracy_random_iter.append(accuracy_random)\n",
    "    fit_time_random_iter.append(fit_time_random)\n",
    "    prediction_time_random_iter.append(prediction_time_random)\n",
    "    total_time_random_iter.append(total_time_random)"
   ]
  },
  {
   "cell_type": "code",
   "execution_count": 8,
   "metadata": {},
   "outputs": [
    {
     "name": "stderr",
     "output_type": "stream",
     "text": [
      "  0%|          | 0/10 [00:00<?, ?it/s]/usr/local/lib/python3.6/site-packages/sklearn/cluster/k_means_.py:1418: RuntimeWarning: init_size=300 should be larger than k=500. Setting it to 3*k\n",
      "  init_size=init_size)\n",
      "/usr/local/lib/python3.6/site-packages/sklearn/cluster/k_means_.py:1418: RuntimeWarning: init_size=300 should be larger than k=1000. Setting it to 3*k\n",
      "  init_size=init_size)\n",
      "100%|██████████| 10/10 [1:37:51<00:00, 587.20s/it]\n"
     ]
    }
   ],
   "source": [
    "#using a subset of a data by kmeans sampling\n",
    "accuracy_knn_iter = []\n",
    "fit_time_knn_iter = []\n",
    "prediction_time_knn_iter = []\n",
    "total_time_knn_iter = []\n",
    "\n",
    "for iter in tqdm(range(0,10)):\n",
    "    prototyping_example2 = prototyping()\n",
    "    num_sample = [1000, 5000, 10000]\n",
    "    accuracy_knn = []\n",
    "    fit_time_knn = []\n",
    "    prediction_time_knn = []\n",
    "    total_time_knn = []\n",
    "    for n in num_sample:\n",
    "        train_img_sample, train_label_sample = prototyping_example2.sample(train_img, train_label, num_sample = n, strategy = 'kmeans')\n",
    "        _,accuracy,fit_time,prediction_time = pred_timing(train_img_sample, train_label_sample, test_img, test_label)\n",
    "        accuracy_knn.append(accuracy)\n",
    "        fit_time_knn.append(fit_time)\n",
    "        prediction_time_knn.append(prediction_time)\n",
    "        total_time_knn.append(fit_time+prediction_time)\n",
    "        #print(len(train_img_sample))\n",
    "    \n",
    "    accuracy_knn_iter.append(accuracy_knn)\n",
    "    fit_time_knn_iter.append(fit_time_knn)\n",
    "    prediction_time_knn_iter.append(prediction_time_knn)\n",
    "    total_time_knn_iter.append(total_time_knn)\n"
   ]
  },
  {
   "cell_type": "code",
   "execution_count": 13,
   "metadata": {},
   "outputs": [],
   "source": [
    "mean_accuracy_knn_iter = np.mean(accuracy_knn_iter, axis = 0)*100\n",
    "mean_accuracy_random_iter = np.mean(accuracy_random_iter, axis = 0)*100"
   ]
  },
  {
   "cell_type": "code",
   "execution_count": 14,
   "metadata": {},
   "outputs": [
    {
     "data": {
      "text/plain": [
       "<matplotlib.legend.Legend at 0x10d410f98>"
      ]
     },
     "execution_count": 14,
     "metadata": {},
     "output_type": "execute_result"
    },
    {
     "data": {
      "image/png": "[encoded data removed]",
      "text/plain": [
       "<matplotlib.figure.Figure at 0x10d306128>"
      ]
     },
     "metadata": {},
     "output_type": "display_data"
    }
   ],
   "source": [
    "plt.plot(num_sample, mean_accuracy_random_iter,label = 'sampling-random')\n",
    "plt.ylim((85,100))\n",
    "plt.plot(num_sample, mean_accuracy_knn_iter, label = 'sampling-kmeans')\n",
    "plt.xlabel(('number of samples'))\n",
    "plt.ylabel(('accuracy in percentage'))\n",
    "plt.tight_layout()\n",
    "plt.legend()"
   ]
  },
  {
   "cell_type": "code",
   "execution_count": 12,
   "metadata": {},
   "outputs": [
    {
     "data": {
      "text/plain": [
       "array([0.88332, 0.93628, 0.94712])"
      ]
     },
     "execution_count": 12,
     "metadata": {},
     "output_type": "execute_result"
    }
   ],
   "source": []
  },
  {
   "cell_type": "code",
   "execution_count": null,
   "metadata": {
    "collapsed": true
   },
   "outputs": [],
   "source": []
  }
 ],
 "metadata": {
  "kernelspec": {
   "display_name": "Python 3",
   "language": "python",
   "name": "python3"
  },
  "language_info": {
   "codemirror_mode": {
    "name": "ipython",
    "version": 3
   },
   "file_extension": ".py",
   "mimetype": "text/x-python",
   "name": "python",
   "nbconvert_exporter": "python",
   "pygments_lexer": "ipython3",
   "version": "3.6.5"
  }
 },
 "nbformat": 4,
 "nbformat_minor": 2
}
